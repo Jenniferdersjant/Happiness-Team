{
 "cells": [
  {
   "cell_type": "code",
   "execution_count": 2,
   "id": "everyday-peter",
   "metadata": {},
   "outputs": [],
   "source": [
    "import pandas as pd\n",
    "import numpy as np\n",
    "import matplotlib as mpl\n",
    "import seaborn as sns"
   ]
  },
  {
   "cell_type": "code",
   "execution_count": 3,
   "metadata": {},
   "outputs": [],
   "source": [
    "df_happy = pd.read_csv('data/world-happiness-report-2015-19.csv')"
   ]
  },
  {
   "cell_type": "code",
   "execution_count": 8,
   "metadata": {},
   "outputs": [
    {
     "output_type": "stream",
     "name": "stdout",
     "text": [
      "<class 'pandas.core.frame.DataFrame'>\nRangeIndex: 1949 entries, 0 to 1948\nData columns (total 11 columns):\n #   Column                            Non-Null Count  Dtype  \n---  ------                            --------------  -----  \n 0   Country name                      1949 non-null   object \n 1   year                              1949 non-null   int64  \n 2   Life Ladder                       1949 non-null   float64\n 3   Log GDP per capita                1913 non-null   float64\n 4   Social support                    1936 non-null   float64\n 5   Healthy life expectancy at birth  1894 non-null   float64\n 6   Freedom to make life choices      1917 non-null   float64\n 7   Generosity                        1860 non-null   float64\n 8   Perceptions of corruption         1839 non-null   float64\n 9   Positive affect                   1927 non-null   float64\n 10  Negative affect                   1933 non-null   float64\ndtypes: float64(9), int64(1), object(1)\nmemory usage: 167.6+ KB\n"
     ]
    }
   ],
   "source": [
    "df_happy.info()"
   ]
  },
  {
   "cell_type": "code",
   "execution_count": 4,
   "metadata": {},
   "outputs": [],
   "source": [
    "df_happy_2021 = pd.read_csv('data/world-happiness-report-2021.csv')"
   ]
  },
  {
   "cell_type": "code",
   "execution_count": 9,
   "metadata": {},
   "outputs": [
    {
     "output_type": "stream",
     "name": "stdout",
     "text": [
      "<class 'pandas.core.frame.DataFrame'>\nRangeIndex: 149 entries, 0 to 148\nData columns (total 20 columns):\n #   Column                                      Non-Null Count  Dtype  \n---  ------                                      --------------  -----  \n 0   Country name                                149 non-null    object \n 1   Regional indicator                          149 non-null    object \n 2   Ladder score                                149 non-null    float64\n 3   Standard error of ladder score              149 non-null    float64\n 4   upperwhisker                                149 non-null    float64\n 5   lowerwhisker                                149 non-null    float64\n 6   Logged GDP per capita                       149 non-null    float64\n 7   Social support                              149 non-null    float64\n 8   Healthy life expectancy                     149 non-null    float64\n 9   Freedom to make life choices                149 non-null    float64\n 10  Generosity                                  149 non-null    float64\n 11  Perceptions of corruption                   149 non-null    float64\n 12  Ladder score in Dystopia                    149 non-null    float64\n 13  Explained by: Log GDP per capita            149 non-null    float64\n 14  Explained by: Social support                149 non-null    float64\n 15  Explained by: Healthy life expectancy       149 non-null    float64\n 16  Explained by: Freedom to make life choices  149 non-null    float64\n 17  Explained by: Generosity                    149 non-null    float64\n 18  Explained by: Perceptions of corruption     149 non-null    float64\n 19  Dystopia + residual                         149 non-null    float64\ndtypes: float64(18), object(2)\nmemory usage: 23.4+ KB\n"
     ]
    }
   ],
   "source": [
    "df_happy_2021.info()"
   ]
  },
  {
   "cell_type": "code",
   "execution_count": 5,
   "metadata": {},
   "outputs": [],
   "source": [
    "df_vaccination = pd.read_csv('data/vaccination-data.csv')"
   ]
  },
  {
   "cell_type": "code",
   "execution_count": 6,
   "metadata": {},
   "outputs": [],
   "source": [
    "df_cummulative = pd.read_csv('data/WHO-Covid-cummulativecsv.csv')"
   ]
  },
  {
   "cell_type": "code",
   "execution_count": 7,
   "metadata": {},
   "outputs": [
    {
     "output_type": "stream",
     "name": "stdout",
     "text": [
      "<class 'pandas.core.frame.DataFrame'>\nRangeIndex: 127980 entries, 0 to 127979\nData columns (total 8 columns):\n #   Column             Non-Null Count   Dtype \n---  ------             --------------   ----- \n 0   Date_reported      127980 non-null  object\n 1   Country_code       127440 non-null  object\n 2   Country            127980 non-null  object\n 3   WHO_region         127980 non-null  object\n 4   New_cases          127980 non-null  int64 \n 5   Cumulative_cases   127980 non-null  int64 \n 6   New_deaths         127980 non-null  int64 \n 7   Cumulative_deaths  127980 non-null  int64 \ndtypes: int64(4), object(4)\nmemory usage: 7.8+ MB\n"
     ]
    }
   ],
   "source": [
    "df_cummulative.info()"
   ]
  },
  {
   "cell_type": "code",
   "execution_count": null,
   "metadata": {},
   "outputs": [],
   "source": []
  }
 ],
 "metadata": {
  "kernelspec": {
   "name": "python3",
   "display_name": "Python 3.9.0 64-bit"
  },
  "language_info": {
   "codemirror_mode": {
    "name": "ipython",
    "version": 3
   },
   "file_extension": ".py",
   "mimetype": "text/x-python",
   "name": "python",
   "nbconvert_exporter": "python",
   "pygments_lexer": "ipython3",
   "version": "3.9.0"
  },
  "interpreter": {
   "hash": "4cd7ab41f5fca4b9b44701077e38c5ffd31fe66a6cab21e0214b68d958d0e462"
  }
 },
 "nbformat": 4,
 "nbformat_minor": 5
}