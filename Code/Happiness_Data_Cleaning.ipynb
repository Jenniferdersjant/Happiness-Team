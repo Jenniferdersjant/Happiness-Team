{
 "cells": [
  {
   "cell_type": "markdown",
   "id": "00e3e876",
   "metadata": {},
   "source": [
    "# Import libraries"
   ]
  },
  {
   "cell_type": "code",
   "execution_count": 1,
   "id": "everyday-peter",
   "metadata": {},
   "outputs": [],
   "source": [
    "import pandas as pd\n",
    "import numpy as np"
   ]
  },
  {
   "cell_type": "markdown",
   "id": "0d359323",
   "metadata": {},
   "source": [
    "# Read data and create dataframes "
   ]
  },
  {
   "cell_type": "code",
   "execution_count": 2,
   "id": "dcf5ca35",
   "metadata": {},
   "outputs": [],
   "source": [
    "# Create dataframe for World Happiness Report 2015-2019\n",
    "df_happy_2015_2019 = pd.read_csv('world-happiness-report-2015-19.csv')"
   ]
  },
  {
   "cell_type": "code",
   "execution_count": 3,
   "id": "52a55a24",
   "metadata": {},
   "outputs": [
    {
     "name": "stdout",
     "output_type": "stream",
     "text": [
      "<class 'pandas.core.frame.DataFrame'>\n",
      "RangeIndex: 1949 entries, 0 to 1948\n",
      "Data columns (total 11 columns):\n",
      " #   Column                            Non-Null Count  Dtype  \n",
      "---  ------                            --------------  -----  \n",
      " 0   Country name                      1949 non-null   object \n",
      " 1   year                              1949 non-null   int64  \n",
      " 2   Life Ladder                       1949 non-null   float64\n",
      " 3   Log GDP per capita                1913 non-null   float64\n",
      " 4   Social support                    1936 non-null   float64\n",
      " 5   Healthy life expectancy at birth  1894 non-null   float64\n",
      " 6   Freedom to make life choices      1917 non-null   float64\n",
      " 7   Generosity                        1860 non-null   float64\n",
      " 8   Perceptions of corruption         1839 non-null   float64\n",
      " 9   Positive affect                   1927 non-null   float64\n",
      " 10  Negative affect                   1933 non-null   float64\n",
      "dtypes: float64(9), int64(1), object(1)\n",
      "memory usage: 167.6+ KB\n"
     ]
    }
   ],
   "source": [
    "df_happy_2015_2019.info()"
   ]
  },
  {
   "cell_type": "code",
   "execution_count": 4,
   "id": "b15a7f29",
   "metadata": {},
   "outputs": [],
   "source": [
    "# Create dataframe for World Happiness Report 2021\n",
    "df_happy_2021 = pd.read_csv('world-happiness-report-2021.csv')"
   ]
  },
  {
   "cell_type": "code",
   "execution_count": 5,
   "id": "5dedf3c8",
   "metadata": {},
   "outputs": [
    {
     "name": "stdout",
     "output_type": "stream",
     "text": [
      "<class 'pandas.core.frame.DataFrame'>\n",
      "RangeIndex: 149 entries, 0 to 148\n",
      "Data columns (total 20 columns):\n",
      " #   Column                                      Non-Null Count  Dtype  \n",
      "---  ------                                      --------------  -----  \n",
      " 0   Country name                                149 non-null    object \n",
      " 1   Regional indicator                          149 non-null    object \n",
      " 2   Ladder score                                149 non-null    float64\n",
      " 3   Standard error of ladder score              149 non-null    float64\n",
      " 4   upperwhisker                                149 non-null    float64\n",
      " 5   lowerwhisker                                149 non-null    float64\n",
      " 6   Logged GDP per capita                       149 non-null    float64\n",
      " 7   Social support                              149 non-null    float64\n",
      " 8   Healthy life expectancy                     149 non-null    float64\n",
      " 9   Freedom to make life choices                149 non-null    float64\n",
      " 10  Generosity                                  149 non-null    float64\n",
      " 11  Perceptions of corruption                   149 non-null    float64\n",
      " 12  Ladder score in Dystopia                    149 non-null    float64\n",
      " 13  Explained by: Log GDP per capita            149 non-null    float64\n",
      " 14  Explained by: Social support                149 non-null    float64\n",
      " 15  Explained by: Healthy life expectancy       149 non-null    float64\n",
      " 16  Explained by: Freedom to make life choices  149 non-null    float64\n",
      " 17  Explained by: Generosity                    149 non-null    float64\n",
      " 18  Explained by: Perceptions of corruption     149 non-null    float64\n",
      " 19  Dystopia + residual                         149 non-null    float64\n",
      "dtypes: float64(18), object(2)\n",
      "memory usage: 23.4+ KB\n"
     ]
    }
   ],
   "source": [
    "df_happy_2021.info()"
   ]
  },
  {
   "cell_type": "code",
   "execution_count": 6,
   "id": "b7a2a04f",
   "metadata": {},
   "outputs": [],
   "source": [
    "# Create dataframe for World Happiness Report 2020\n",
    "df_happy_2020 = pd.read_excel('world-happiness-report-2020.xls')"
   ]
  },
  {
   "cell_type": "code",
   "execution_count": 7,
   "id": "392b1665",
   "metadata": {},
   "outputs": [
    {
     "name": "stdout",
     "output_type": "stream",
     "text": [
      "<class 'pandas.core.frame.DataFrame'>\n",
      "RangeIndex: 153 entries, 0 to 152\n",
      "Data columns (total 20 columns):\n",
      " #   Column                                      Non-Null Count  Dtype  \n",
      "---  ------                                      --------------  -----  \n",
      " 0   Country name                                153 non-null    object \n",
      " 1   Regional indicator                          153 non-null    object \n",
      " 2   Ladder score                                153 non-null    float64\n",
      " 3   Standard error of ladder score              153 non-null    float64\n",
      " 4   upperwhisker                                153 non-null    float64\n",
      " 5   lowerwhisker                                153 non-null    float64\n",
      " 6   Logged GDP per capita                       153 non-null    float64\n",
      " 7   Social support                              153 non-null    float64\n",
      " 8   Healthy life expectancy                     153 non-null    float64\n",
      " 9   Freedom to make life choices                153 non-null    float64\n",
      " 10  Generosity                                  153 non-null    float64\n",
      " 11  Perceptions of corruption                   153 non-null    float64\n",
      " 12  Ladder score in Dystopia                    153 non-null    float64\n",
      " 13  Explained by: Log GDP per capita            153 non-null    float64\n",
      " 14  Explained by: Social support                153 non-null    float64\n",
      " 15  Explained by: Healthy life expectancy       153 non-null    float64\n",
      " 16  Explained by: Freedom to make life choices  153 non-null    float64\n",
      " 17  Explained by: Generosity                    153 non-null    float64\n",
      " 18  Explained by: Perceptions of corruption     153 non-null    float64\n",
      " 19  Dystopia + residual                         153 non-null    float64\n",
      "dtypes: float64(18), object(2)\n",
      "memory usage: 24.0+ KB\n"
     ]
    }
   ],
   "source": [
    "df_happy_2020.info()"
   ]
  },
  {
   "cell_type": "markdown",
   "id": "9b935ffb",
   "metadata": {},
   "source": [
    "# Create consistency across dataframes"
   ]
  },
  {
   "cell_type": "markdown",
   "id": "62892ecf",
   "metadata": {},
   "source": [
    "## Rename headers to match across dataframes"
   ]
  },
  {
   "cell_type": "code",
   "execution_count": 8,
   "id": "1eb22c91",
   "metadata": {},
   "outputs": [],
   "source": [
    "df_happy_2015_2019 = df_happy_2015_2019.rename(\n",
    "    columns = {\"Life Ladder\": \"Ladder score\",\n",
    "               \"Log GDP per capita\": \"Logged GDP per capita\",\n",
    "               \"Healthy life expectancy at birth\": \"Healthy life expectancy\"})"
   ]
  },
  {
   "cell_type": "markdown",
   "id": "424a73d1",
   "metadata": {},
   "source": [
    "## Drop irrelevant columns"
   ]
  },
  {
   "cell_type": "code",
   "execution_count": 9,
   "id": "1f0db76a",
   "metadata": {},
   "outputs": [],
   "source": [
    "df_happy_2015_2019 = df_happy_2015_2019.drop(\n",
    "    [\"Positive affect\", \"Negative affect\"], axis = 1)"
   ]
  },
  {
   "cell_type": "code",
   "execution_count": 10,
   "id": "0a1ae849",
   "metadata": {},
   "outputs": [],
   "source": [
    "df_happy_2020 = df_happy_2020.drop([\"Regional indicator\", \"Standard error of ladder score\", \n",
    "                                    \"upperwhisker\", \"lowerwhisker\",\n",
    "                                    \"Ladder score in Dystopia\",\n",
    "                                    \"Explained by: Log GDP per capita\", \n",
    "                                    \"Explained by: Social support\",\n",
    "                                    \"Explained by: Healthy life expectancy\", \n",
    "                                    \"Explained by: Freedom to make life choices\", \n",
    "                                    \"Explained by: Generosity\", \n",
    "                                    \"Explained by: Perceptions of corruption\", \"Dystopia + residual\"], \n",
    "                                   axis = 1)"
   ]
  },
  {
   "cell_type": "code",
   "execution_count": 11,
   "id": "2208ad4e",
   "metadata": {},
   "outputs": [],
   "source": [
    "df_happy_2021 = df_happy_2021.drop([\"Regional indicator\", \"Standard error of ladder score\",\n",
    "                                    \"upperwhisker\", \"lowerwhisker\",\n",
    "                                    \"Ladder score in Dystopia\",\n",
    "                                    \"Explained by: Log GDP per capita\",\n",
    "                                    \"Explained by: Social support\",\n",
    "                                    \"Explained by: Healthy life expectancy\",\n",
    "                                    \"Explained by: Freedom to make life choices\",\n",
    "                                    \"Explained by: Generosity\",\n",
    "                                    \"Explained by: Perceptions of corruption\", \"Dystopia + residual\"],\n",
    "                                   axis = 1)"
   ]
  },
  {
   "cell_type": "markdown",
   "id": "15287e88",
   "metadata": {},
   "source": [
    "## Add year columns"
   ]
  },
  {
   "cell_type": "code",
   "execution_count": 12,
   "id": "9c1a0eef",
   "metadata": {},
   "outputs": [
    {
     "data": {
      "text/html": [
       "<div>\n",
       "<style scoped>\n",
       "    .dataframe tbody tr th:only-of-type {\n",
       "        vertical-align: middle;\n",
       "    }\n",
       "\n",
       "    .dataframe tbody tr th {\n",
       "        vertical-align: top;\n",
       "    }\n",
       "\n",
       "    .dataframe thead th {\n",
       "        text-align: right;\n",
       "    }\n",
       "</style>\n",
       "<table border=\"1\" class=\"dataframe\">\n",
       "  <thead>\n",
       "    <tr style=\"text-align: right;\">\n",
       "      <th></th>\n",
       "      <th>Country name</th>\n",
       "      <th>Ladder score</th>\n",
       "      <th>Logged GDP per capita</th>\n",
       "      <th>Social support</th>\n",
       "      <th>Healthy life expectancy</th>\n",
       "      <th>Freedom to make life choices</th>\n",
       "      <th>Generosity</th>\n",
       "      <th>Perceptions of corruption</th>\n",
       "      <th>year</th>\n",
       "    </tr>\n",
       "  </thead>\n",
       "  <tbody>\n",
       "    <tr>\n",
       "      <th>0</th>\n",
       "      <td>Finland</td>\n",
       "      <td>7.8087</td>\n",
       "      <td>10.639267</td>\n",
       "      <td>0.954330</td>\n",
       "      <td>71.900826</td>\n",
       "      <td>0.949172</td>\n",
       "      <td>-0.059482</td>\n",
       "      <td>0.195445</td>\n",
       "      <td>2020</td>\n",
       "    </tr>\n",
       "    <tr>\n",
       "      <th>1</th>\n",
       "      <td>Denmark</td>\n",
       "      <td>7.6456</td>\n",
       "      <td>10.774001</td>\n",
       "      <td>0.955991</td>\n",
       "      <td>72.402504</td>\n",
       "      <td>0.951444</td>\n",
       "      <td>0.066202</td>\n",
       "      <td>0.168489</td>\n",
       "      <td>2020</td>\n",
       "    </tr>\n",
       "    <tr>\n",
       "      <th>2</th>\n",
       "      <td>Switzerland</td>\n",
       "      <td>7.5599</td>\n",
       "      <td>10.979933</td>\n",
       "      <td>0.942847</td>\n",
       "      <td>74.102448</td>\n",
       "      <td>0.921337</td>\n",
       "      <td>0.105911</td>\n",
       "      <td>0.303728</td>\n",
       "      <td>2020</td>\n",
       "    </tr>\n",
       "    <tr>\n",
       "      <th>3</th>\n",
       "      <td>Iceland</td>\n",
       "      <td>7.5045</td>\n",
       "      <td>10.772559</td>\n",
       "      <td>0.974670</td>\n",
       "      <td>73.000000</td>\n",
       "      <td>0.948892</td>\n",
       "      <td>0.246944</td>\n",
       "      <td>0.711710</td>\n",
       "      <td>2020</td>\n",
       "    </tr>\n",
       "    <tr>\n",
       "      <th>4</th>\n",
       "      <td>Norway</td>\n",
       "      <td>7.4880</td>\n",
       "      <td>11.087804</td>\n",
       "      <td>0.952487</td>\n",
       "      <td>73.200783</td>\n",
       "      <td>0.955750</td>\n",
       "      <td>0.134533</td>\n",
       "      <td>0.263218</td>\n",
       "      <td>2020</td>\n",
       "    </tr>\n",
       "  </tbody>\n",
       "</table>\n",
       "</div>"
      ],
      "text/plain": [
       "  Country name  Ladder score  Logged GDP per capita  Social support  \\\n",
       "0      Finland        7.8087              10.639267        0.954330   \n",
       "1      Denmark        7.6456              10.774001        0.955991   \n",
       "2  Switzerland        7.5599              10.979933        0.942847   \n",
       "3      Iceland        7.5045              10.772559        0.974670   \n",
       "4       Norway        7.4880              11.087804        0.952487   \n",
       "\n",
       "   Healthy life expectancy  Freedom to make life choices  Generosity  \\\n",
       "0                71.900826                      0.949172   -0.059482   \n",
       "1                72.402504                      0.951444    0.066202   \n",
       "2                74.102448                      0.921337    0.105911   \n",
       "3                73.000000                      0.948892    0.246944   \n",
       "4                73.200783                      0.955750    0.134533   \n",
       "\n",
       "   Perceptions of corruption  year  \n",
       "0                   0.195445  2020  \n",
       "1                   0.168489  2020  \n",
       "2                   0.303728  2020  \n",
       "3                   0.711710  2020  \n",
       "4                   0.263218  2020  "
      ]
     },
     "execution_count": 12,
     "metadata": {},
     "output_type": "execute_result"
    }
   ],
   "source": [
    "df_happy_2020[\"year\"] = 2020\n",
    "df_happy_2020.head()"
   ]
  },
  {
   "cell_type": "code",
   "execution_count": 13,
   "id": "568c2ad3",
   "metadata": {},
   "outputs": [
    {
     "data": {
      "text/html": [
       "<div>\n",
       "<style scoped>\n",
       "    .dataframe tbody tr th:only-of-type {\n",
       "        vertical-align: middle;\n",
       "    }\n",
       "\n",
       "    .dataframe tbody tr th {\n",
       "        vertical-align: top;\n",
       "    }\n",
       "\n",
       "    .dataframe thead th {\n",
       "        text-align: right;\n",
       "    }\n",
       "</style>\n",
       "<table border=\"1\" class=\"dataframe\">\n",
       "  <thead>\n",
       "    <tr style=\"text-align: right;\">\n",
       "      <th></th>\n",
       "      <th>Country name</th>\n",
       "      <th>Ladder score</th>\n",
       "      <th>Logged GDP per capita</th>\n",
       "      <th>Social support</th>\n",
       "      <th>Healthy life expectancy</th>\n",
       "      <th>Freedom to make life choices</th>\n",
       "      <th>Generosity</th>\n",
       "      <th>Perceptions of corruption</th>\n",
       "      <th>year</th>\n",
       "    </tr>\n",
       "  </thead>\n",
       "  <tbody>\n",
       "    <tr>\n",
       "      <th>0</th>\n",
       "      <td>Finland</td>\n",
       "      <td>7.842</td>\n",
       "      <td>10.775</td>\n",
       "      <td>0.954</td>\n",
       "      <td>72.0</td>\n",
       "      <td>0.949</td>\n",
       "      <td>-0.098</td>\n",
       "      <td>0.186</td>\n",
       "      <td>2021</td>\n",
       "    </tr>\n",
       "    <tr>\n",
       "      <th>1</th>\n",
       "      <td>Denmark</td>\n",
       "      <td>7.620</td>\n",
       "      <td>10.933</td>\n",
       "      <td>0.954</td>\n",
       "      <td>72.7</td>\n",
       "      <td>0.946</td>\n",
       "      <td>0.030</td>\n",
       "      <td>0.179</td>\n",
       "      <td>2021</td>\n",
       "    </tr>\n",
       "    <tr>\n",
       "      <th>2</th>\n",
       "      <td>Switzerland</td>\n",
       "      <td>7.571</td>\n",
       "      <td>11.117</td>\n",
       "      <td>0.942</td>\n",
       "      <td>74.4</td>\n",
       "      <td>0.919</td>\n",
       "      <td>0.025</td>\n",
       "      <td>0.292</td>\n",
       "      <td>2021</td>\n",
       "    </tr>\n",
       "    <tr>\n",
       "      <th>3</th>\n",
       "      <td>Iceland</td>\n",
       "      <td>7.554</td>\n",
       "      <td>10.878</td>\n",
       "      <td>0.983</td>\n",
       "      <td>73.0</td>\n",
       "      <td>0.955</td>\n",
       "      <td>0.160</td>\n",
       "      <td>0.673</td>\n",
       "      <td>2021</td>\n",
       "    </tr>\n",
       "    <tr>\n",
       "      <th>4</th>\n",
       "      <td>Netherlands</td>\n",
       "      <td>7.464</td>\n",
       "      <td>10.932</td>\n",
       "      <td>0.942</td>\n",
       "      <td>72.4</td>\n",
       "      <td>0.913</td>\n",
       "      <td>0.175</td>\n",
       "      <td>0.338</td>\n",
       "      <td>2021</td>\n",
       "    </tr>\n",
       "  </tbody>\n",
       "</table>\n",
       "</div>"
      ],
      "text/plain": [
       "  Country name  Ladder score  Logged GDP per capita  Social support  \\\n",
       "0      Finland         7.842                 10.775           0.954   \n",
       "1      Denmark         7.620                 10.933           0.954   \n",
       "2  Switzerland         7.571                 11.117           0.942   \n",
       "3      Iceland         7.554                 10.878           0.983   \n",
       "4  Netherlands         7.464                 10.932           0.942   \n",
       "\n",
       "   Healthy life expectancy  Freedom to make life choices  Generosity  \\\n",
       "0                     72.0                         0.949      -0.098   \n",
       "1                     72.7                         0.946       0.030   \n",
       "2                     74.4                         0.919       0.025   \n",
       "3                     73.0                         0.955       0.160   \n",
       "4                     72.4                         0.913       0.175   \n",
       "\n",
       "   Perceptions of corruption  year  \n",
       "0                      0.186  2021  \n",
       "1                      0.179  2021  \n",
       "2                      0.292  2021  \n",
       "3                      0.673  2021  \n",
       "4                      0.338  2021  "
      ]
     },
     "execution_count": 13,
     "metadata": {},
     "output_type": "execute_result"
    }
   ],
   "source": [
    "df_happy_2021[\"year\"] = 2021\n",
    "df_happy_2021.head()"
   ]
  },
  {
   "cell_type": "markdown",
   "id": "42945b78",
   "metadata": {},
   "source": [
    "## Remove 2020 data from 2015-2019 report to avoid duplicates"
   ]
  },
  {
   "cell_type": "code",
   "execution_count": 14,
   "id": "4b04e87f",
   "metadata": {},
   "outputs": [],
   "source": [
    "data_2020 = df_happy_2015_2019.loc[df_happy_2015_2019[\"year\"] == 2020]\n",
    "\n",
    "df_happy_2015_2019 = df_happy_2015_2019.drop(data_2020.index)"
   ]
  },
  {
   "cell_type": "markdown",
   "id": "86eb35a0",
   "metadata": {},
   "source": [
    "# Merge dataframes"
   ]
  },
  {
   "cell_type": "code",
   "execution_count": 15,
   "id": "2fdd5480",
   "metadata": {},
   "outputs": [
    {
     "data": {
      "text/plain": [
       "Index(['Country name', 'year', 'Ladder score', 'Logged GDP per capita',\n",
       "       'Social support', 'Healthy life expectancy',\n",
       "       'Freedom to make life choices', 'Generosity',\n",
       "       'Perceptions of corruption'],\n",
       "      dtype='object')"
      ]
     },
     "execution_count": 15,
     "metadata": {},
     "output_type": "execute_result"
    }
   ],
   "source": [
    "column_names = df_happy_2015_2019.columns\n",
    "column_names"
   ]
  },
  {
   "cell_type": "code",
   "execution_count": 16,
   "id": "6d1ffd99",
   "metadata": {},
   "outputs": [],
   "source": [
    "df_happy = pd.DataFrame(columns = column_names)"
   ]
  },
  {
   "cell_type": "code",
   "execution_count": 17,
   "id": "25e1a437",
   "metadata": {},
   "outputs": [
    {
     "data": {
      "text/html": [
       "<div>\n",
       "<style scoped>\n",
       "    .dataframe tbody tr th:only-of-type {\n",
       "        vertical-align: middle;\n",
       "    }\n",
       "\n",
       "    .dataframe tbody tr th {\n",
       "        vertical-align: top;\n",
       "    }\n",
       "\n",
       "    .dataframe thead th {\n",
       "        text-align: right;\n",
       "    }\n",
       "</style>\n",
       "<table border=\"1\" class=\"dataframe\">\n",
       "  <thead>\n",
       "    <tr style=\"text-align: right;\">\n",
       "      <th></th>\n",
       "      <th>Country name</th>\n",
       "      <th>year</th>\n",
       "      <th>Ladder score</th>\n",
       "      <th>Logged GDP per capita</th>\n",
       "      <th>Social support</th>\n",
       "      <th>Healthy life expectancy</th>\n",
       "      <th>Freedom to make life choices</th>\n",
       "      <th>Generosity</th>\n",
       "      <th>Perceptions of corruption</th>\n",
       "    </tr>\n",
       "  </thead>\n",
       "  <tbody>\n",
       "  </tbody>\n",
       "</table>\n",
       "</div>"
      ],
      "text/plain": [
       "Empty DataFrame\n",
       "Columns: [Country name, year, Ladder score, Logged GDP per capita, Social support, Healthy life expectancy, Freedom to make life choices, Generosity, Perceptions of corruption]\n",
       "Index: []"
      ]
     },
     "execution_count": 17,
     "metadata": {},
     "output_type": "execute_result"
    }
   ],
   "source": [
    "df_happy.head()"
   ]
  },
  {
   "cell_type": "code",
   "execution_count": 18,
   "id": "b821c9d0",
   "metadata": {},
   "outputs": [],
   "source": [
    "df_happy = pd.concat([df_happy, df_happy_2015_2019], axis = 0)"
   ]
  },
  {
   "cell_type": "code",
   "execution_count": 19,
   "id": "5458cc2d",
   "metadata": {},
   "outputs": [],
   "source": [
    "df_happy = pd.concat([df_happy, df_happy_2020], axis = 0)"
   ]
  },
  {
   "cell_type": "code",
   "execution_count": 20,
   "id": "4d6bdf74",
   "metadata": {},
   "outputs": [],
   "source": [
    "df_happy = pd.concat([df_happy, df_happy_2021], axis = 0)"
   ]
  },
  {
   "cell_type": "code",
   "execution_count": 21,
   "id": "e7d86f77",
   "metadata": {},
   "outputs": [
    {
     "data": {
      "text/plain": [
       "(2156, 9)"
      ]
     },
     "execution_count": 21,
     "metadata": {},
     "output_type": "execute_result"
    }
   ],
   "source": [
    "df_happy.shape"
   ]
  },
  {
   "cell_type": "code",
   "execution_count": 23,
   "id": "7a9c33b7",
   "metadata": {},
   "outputs": [
    {
     "data": {
      "text/plain": [
       "array(['Afghanistan', 'Albania', 'Algeria', 'Angola', 'Argentina',\n",
       "       'Armenia', 'Australia', 'Austria', 'Azerbaijan', 'Bahrain',\n",
       "       'Bangladesh', 'Belarus', 'Belgium', 'Belize', 'Benin', 'Bhutan',\n",
       "       'Bolivia', 'Bosnia and Herzegovina', 'Botswana', 'Brazil',\n",
       "       'Bulgaria', 'Burkina Faso', 'Burundi', 'Cambodia', 'Cameroon',\n",
       "       'Canada', 'Central African Republic', 'Chad', 'Chile', 'China',\n",
       "       'Colombia', 'Comoros', 'Congo (Brazzaville)', 'Congo (Kinshasa)',\n",
       "       'Costa Rica', 'Croatia', 'Cuba', 'Cyprus', 'Czech Republic',\n",
       "       'Denmark', 'Djibouti', 'Dominican Republic', 'Ecuador', 'Egypt',\n",
       "       'El Salvador', 'Estonia', 'Ethiopia', 'Finland', 'France', 'Gabon',\n",
       "       'Gambia', 'Georgia', 'Germany', 'Ghana', 'Greece', 'Guatemala',\n",
       "       'Guinea', 'Guyana', 'Haiti', 'Honduras',\n",
       "       'Hong Kong S.A.R. of China', 'Hungary', 'Iceland', 'India',\n",
       "       'Indonesia', 'Iran', 'Iraq', 'Ireland', 'Israel', 'Italy',\n",
       "       'Ivory Coast', 'Jamaica', 'Japan', 'Jordan', 'Kazakhstan', 'Kenya',\n",
       "       'Kosovo', 'Kuwait', 'Kyrgyzstan', 'Laos', 'Latvia', 'Lebanon',\n",
       "       'Lesotho', 'Liberia', 'Libya', 'Lithuania', 'Luxembourg',\n",
       "       'Madagascar', 'Malawi', 'Malaysia', 'Maldives', 'Mali', 'Malta',\n",
       "       'Mauritania', 'Mauritius', 'Mexico', 'Moldova', 'Mongolia',\n",
       "       'Montenegro', 'Morocco', 'Mozambique', 'Myanmar', 'Namibia',\n",
       "       'Nepal', 'Netherlands', 'New Zealand', 'Nicaragua', 'Niger',\n",
       "       'Nigeria', 'North Cyprus', 'North Macedonia', 'Norway', 'Oman',\n",
       "       'Pakistan', 'Palestinian Territories', 'Panama', 'Paraguay',\n",
       "       'Peru', 'Philippines', 'Poland', 'Portugal', 'Qatar', 'Romania',\n",
       "       'Russia', 'Rwanda', 'Saudi Arabia', 'Senegal', 'Serbia',\n",
       "       'Sierra Leone', 'Singapore', 'Slovakia', 'Slovenia', 'Somalia',\n",
       "       'Somaliland region', 'South Africa', 'South Korea', 'South Sudan',\n",
       "       'Spain', 'Sri Lanka', 'Sudan', 'Suriname', 'Swaziland', 'Sweden',\n",
       "       'Switzerland', 'Syria', 'Taiwan Province of China', 'Tajikistan',\n",
       "       'Tanzania', 'Thailand', 'Togo', 'Trinidad and Tobago', 'Tunisia',\n",
       "       'Turkey', 'Turkmenistan', 'Uganda', 'Ukraine',\n",
       "       'United Arab Emirates', 'United Kingdom', 'United States',\n",
       "       'Uruguay', 'Uzbekistan', 'Venezuela', 'Vietnam', 'Yemen', 'Zambia',\n",
       "       'Zimbabwe', 'Macedonia'], dtype=object)"
      ]
     },
     "execution_count": 23,
     "metadata": {},
     "output_type": "execute_result"
    }
   ],
   "source": [
    "df_happy[\"Country name\"].unique()"
   ]
  },
  {
   "cell_type": "markdown",
   "id": "12939014",
   "metadata": {},
   "source": [
    "# Clean up headers"
   ]
  },
  {
   "cell_type": "code",
   "execution_count": 24,
   "id": "2d6423c9",
   "metadata": {},
   "outputs": [],
   "source": [
    "# Replace spaces with underscores\n",
    "df_happy.columns = df_happy.columns.str.replace(\" \", \"_\")"
   ]
  },
  {
   "cell_type": "code",
   "execution_count": 25,
   "id": "a7c0a48f",
   "metadata": {},
   "outputs": [],
   "source": [
    "# Make headers lowercase\n",
    "df_happy.columns = map(str.lower, df_happy.columns)"
   ]
  },
  {
   "cell_type": "code",
   "execution_count": 26,
   "id": "01a83298",
   "metadata": {},
   "outputs": [
    {
     "data": {
      "text/plain": [
       "Index(['country_name', 'year', 'ladder_score', 'logged_gdp_per_capita',\n",
       "       'social_support', 'healthy_life_expectancy',\n",
       "       'freedom_to_make_life_choices', 'generosity',\n",
       "       'perceptions_of_corruption'],\n",
       "      dtype='object')"
      ]
     },
     "execution_count": 26,
     "metadata": {},
     "output_type": "execute_result"
    }
   ],
   "source": [
    "df_happy.columns"
   ]
  },
  {
   "cell_type": "code",
   "execution_count": 28,
   "id": "d07a0039",
   "metadata": {},
   "outputs": [],
   "source": [
    "df_happy = df_happy.rename(columns = {\"country_name\": \"country\"})"
   ]
  },
  {
   "cell_type": "markdown",
   "id": "767b03af",
   "metadata": {},
   "source": [
    "# Reset index"
   ]
  },
  {
   "cell_type": "code",
   "execution_count": 29,
   "id": "d61726c5",
   "metadata": {},
   "outputs": [],
   "source": [
    "df_happy.reset_index(drop = True, inplace = True)"
   ]
  },
  {
   "cell_type": "code",
   "execution_count": 30,
   "id": "9dfeea24",
   "metadata": {},
   "outputs": [
    {
     "data": {
      "text/html": [
       "<div>\n",
       "<style scoped>\n",
       "    .dataframe tbody tr th:only-of-type {\n",
       "        vertical-align: middle;\n",
       "    }\n",
       "\n",
       "    .dataframe tbody tr th {\n",
       "        vertical-align: top;\n",
       "    }\n",
       "\n",
       "    .dataframe thead th {\n",
       "        text-align: right;\n",
       "    }\n",
       "</style>\n",
       "<table border=\"1\" class=\"dataframe\">\n",
       "  <thead>\n",
       "    <tr style=\"text-align: right;\">\n",
       "      <th></th>\n",
       "      <th>country</th>\n",
       "      <th>year</th>\n",
       "      <th>ladder_score</th>\n",
       "      <th>logged_gdp_per_capita</th>\n",
       "      <th>social_support</th>\n",
       "      <th>healthy_life_expectancy</th>\n",
       "      <th>freedom_to_make_life_choices</th>\n",
       "      <th>generosity</th>\n",
       "      <th>perceptions_of_corruption</th>\n",
       "    </tr>\n",
       "  </thead>\n",
       "  <tbody>\n",
       "    <tr>\n",
       "      <th>0</th>\n",
       "      <td>Afghanistan</td>\n",
       "      <td>2008</td>\n",
       "      <td>3.724</td>\n",
       "      <td>7.370</td>\n",
       "      <td>0.451</td>\n",
       "      <td>50.80</td>\n",
       "      <td>0.718</td>\n",
       "      <td>0.168</td>\n",
       "      <td>0.882</td>\n",
       "    </tr>\n",
       "    <tr>\n",
       "      <th>1</th>\n",
       "      <td>Afghanistan</td>\n",
       "      <td>2009</td>\n",
       "      <td>4.402</td>\n",
       "      <td>7.540</td>\n",
       "      <td>0.552</td>\n",
       "      <td>51.20</td>\n",
       "      <td>0.679</td>\n",
       "      <td>0.190</td>\n",
       "      <td>0.850</td>\n",
       "    </tr>\n",
       "    <tr>\n",
       "      <th>2</th>\n",
       "      <td>Afghanistan</td>\n",
       "      <td>2010</td>\n",
       "      <td>4.758</td>\n",
       "      <td>7.647</td>\n",
       "      <td>0.539</td>\n",
       "      <td>51.60</td>\n",
       "      <td>0.600</td>\n",
       "      <td>0.121</td>\n",
       "      <td>0.707</td>\n",
       "    </tr>\n",
       "    <tr>\n",
       "      <th>3</th>\n",
       "      <td>Afghanistan</td>\n",
       "      <td>2011</td>\n",
       "      <td>3.832</td>\n",
       "      <td>7.620</td>\n",
       "      <td>0.521</td>\n",
       "      <td>51.92</td>\n",
       "      <td>0.496</td>\n",
       "      <td>0.162</td>\n",
       "      <td>0.731</td>\n",
       "    </tr>\n",
       "    <tr>\n",
       "      <th>4</th>\n",
       "      <td>Afghanistan</td>\n",
       "      <td>2012</td>\n",
       "      <td>3.783</td>\n",
       "      <td>7.705</td>\n",
       "      <td>0.521</td>\n",
       "      <td>52.24</td>\n",
       "      <td>0.531</td>\n",
       "      <td>0.236</td>\n",
       "      <td>0.776</td>\n",
       "    </tr>\n",
       "  </tbody>\n",
       "</table>\n",
       "</div>"
      ],
      "text/plain": [
       "       country  year  ladder_score  logged_gdp_per_capita  social_support  \\\n",
       "0  Afghanistan  2008         3.724                  7.370           0.451   \n",
       "1  Afghanistan  2009         4.402                  7.540           0.552   \n",
       "2  Afghanistan  2010         4.758                  7.647           0.539   \n",
       "3  Afghanistan  2011         3.832                  7.620           0.521   \n",
       "4  Afghanistan  2012         3.783                  7.705           0.521   \n",
       "\n",
       "   healthy_life_expectancy  freedom_to_make_life_choices  generosity  \\\n",
       "0                    50.80                         0.718       0.168   \n",
       "1                    51.20                         0.679       0.190   \n",
       "2                    51.60                         0.600       0.121   \n",
       "3                    51.92                         0.496       0.162   \n",
       "4                    52.24                         0.531       0.236   \n",
       "\n",
       "   perceptions_of_corruption  \n",
       "0                      0.882  \n",
       "1                      0.850  \n",
       "2                      0.707  \n",
       "3                      0.731  \n",
       "4                      0.776  "
      ]
     },
     "execution_count": 30,
     "metadata": {},
     "output_type": "execute_result"
    }
   ],
   "source": [
    "df_happy.head()"
   ]
  },
  {
   "cell_type": "code",
   "execution_count": 31,
   "id": "ef8f92e9",
   "metadata": {},
   "outputs": [
    {
     "name": "stdout",
     "output_type": "stream",
     "text": [
      "<class 'pandas.core.frame.DataFrame'>\n",
      "RangeIndex: 2156 entries, 0 to 2155\n",
      "Data columns (total 9 columns):\n",
      " #   Column                        Non-Null Count  Dtype  \n",
      "---  ------                        --------------  -----  \n",
      " 0   country                       2156 non-null   object \n",
      " 1   year                          2156 non-null   object \n",
      " 2   ladder_score                  2156 non-null   float64\n",
      " 3   logged_gdp_per_capita         2127 non-null   float64\n",
      " 4   social_support                2143 non-null   float64\n",
      " 5   healthy_life_expectancy       2104 non-null   float64\n",
      " 6   freedom_to_make_life_choices  2125 non-null   float64\n",
      " 7   generosity                    2074 non-null   float64\n",
      " 8   perceptions_of_corruption     2052 non-null   float64\n",
      "dtypes: float64(7), object(2)\n",
      "memory usage: 151.7+ KB\n"
     ]
    }
   ],
   "source": [
    "df_happy.info()"
   ]
  },
  {
   "cell_type": "markdown",
   "id": "253b625d",
   "metadata": {},
   "source": [
    "# Export cleaned data as CSV"
   ]
  },
  {
   "cell_type": "code",
   "execution_count": 32,
   "id": "4c63c1b4",
   "metadata": {},
   "outputs": [],
   "source": [
    "df_happy.to_csv('world-happiness-report_clean.csv', index = False)"
   ]
  },
  {
   "cell_type": "markdown",
   "id": "3acda182",
   "metadata": {},
   "source": [
    "# EDA"
   ]
  },
  {
   "cell_type": "code",
   "execution_count": 33,
   "id": "25b14166",
   "metadata": {},
   "outputs": [
    {
     "data": {
      "text/html": [
       "<div>\n",
       "<style scoped>\n",
       "    .dataframe tbody tr th:only-of-type {\n",
       "        vertical-align: middle;\n",
       "    }\n",
       "\n",
       "    .dataframe tbody tr th {\n",
       "        vertical-align: top;\n",
       "    }\n",
       "\n",
       "    .dataframe thead th {\n",
       "        text-align: right;\n",
       "    }\n",
       "</style>\n",
       "<table border=\"1\" class=\"dataframe\">\n",
       "  <thead>\n",
       "    <tr style=\"text-align: right;\">\n",
       "      <th></th>\n",
       "      <th>ladder_score</th>\n",
       "      <th>logged_gdp_per_capita</th>\n",
       "      <th>social_support</th>\n",
       "      <th>healthy_life_expectancy</th>\n",
       "      <th>freedom_to_make_life_choices</th>\n",
       "      <th>generosity</th>\n",
       "      <th>perceptions_of_corruption</th>\n",
       "    </tr>\n",
       "  </thead>\n",
       "  <tbody>\n",
       "    <tr>\n",
       "      <th>count</th>\n",
       "      <td>2156.000000</td>\n",
       "      <td>2127.000000</td>\n",
       "      <td>2143.000000</td>\n",
       "      <td>2104.000000</td>\n",
       "      <td>2125.000000</td>\n",
       "      <td>2074.000000</td>\n",
       "      <td>2052.000000</td>\n",
       "    </tr>\n",
       "    <tr>\n",
       "      <th>mean</th>\n",
       "      <td>5.455265</td>\n",
       "      <td>9.351845</td>\n",
       "      <td>0.811262</td>\n",
       "      <td>63.390488</td>\n",
       "      <td>0.745607</td>\n",
       "      <td>-0.001729</td>\n",
       "      <td>0.746360</td>\n",
       "    </tr>\n",
       "    <tr>\n",
       "      <th>std</th>\n",
       "      <td>1.115322</td>\n",
       "      <td>1.162684</td>\n",
       "      <td>0.118823</td>\n",
       "      <td>7.468284</td>\n",
       "      <td>0.140415</td>\n",
       "      <td>0.161697</td>\n",
       "      <td>0.184746</td>\n",
       "    </tr>\n",
       "    <tr>\n",
       "      <th>min</th>\n",
       "      <td>2.375000</td>\n",
       "      <td>6.492642</td>\n",
       "      <td>0.290000</td>\n",
       "      <td>32.300000</td>\n",
       "      <td>0.258000</td>\n",
       "      <td>-0.335000</td>\n",
       "      <td>0.035000</td>\n",
       "    </tr>\n",
       "    <tr>\n",
       "      <th>25%</th>\n",
       "      <td>4.639750</td>\n",
       "      <td>8.449500</td>\n",
       "      <td>0.748000</td>\n",
       "      <td>58.629693</td>\n",
       "      <td>0.651000</td>\n",
       "      <td>-0.117000</td>\n",
       "      <td>0.690000</td>\n",
       "    </tr>\n",
       "    <tr>\n",
       "      <th>50%</th>\n",
       "      <td>5.385000</td>\n",
       "      <td>9.456000</td>\n",
       "      <td>0.834000</td>\n",
       "      <td>65.200000</td>\n",
       "      <td>0.765000</td>\n",
       "      <td>-0.027000</td>\n",
       "      <td>0.800000</td>\n",
       "    </tr>\n",
       "    <tr>\n",
       "      <th>75%</th>\n",
       "      <td>6.268250</td>\n",
       "      <td>10.341509</td>\n",
       "      <td>0.905000</td>\n",
       "      <td>68.569250</td>\n",
       "      <td>0.859000</td>\n",
       "      <td>0.089000</td>\n",
       "      <td>0.868000</td>\n",
       "    </tr>\n",
       "    <tr>\n",
       "      <th>max</th>\n",
       "      <td>8.019000</td>\n",
       "      <td>11.648000</td>\n",
       "      <td>0.987000</td>\n",
       "      <td>77.100000</td>\n",
       "      <td>0.985000</td>\n",
       "      <td>0.698000</td>\n",
       "      <td>0.983000</td>\n",
       "    </tr>\n",
       "  </tbody>\n",
       "</table>\n",
       "</div>"
      ],
      "text/plain": [
       "       ladder_score  logged_gdp_per_capita  social_support  \\\n",
       "count   2156.000000            2127.000000     2143.000000   \n",
       "mean       5.455265               9.351845        0.811262   \n",
       "std        1.115322               1.162684        0.118823   \n",
       "min        2.375000               6.492642        0.290000   \n",
       "25%        4.639750               8.449500        0.748000   \n",
       "50%        5.385000               9.456000        0.834000   \n",
       "75%        6.268250              10.341509        0.905000   \n",
       "max        8.019000              11.648000        0.987000   \n",
       "\n",
       "       healthy_life_expectancy  freedom_to_make_life_choices   generosity  \\\n",
       "count              2104.000000                   2125.000000  2074.000000   \n",
       "mean                 63.390488                      0.745607    -0.001729   \n",
       "std                   7.468284                      0.140415     0.161697   \n",
       "min                  32.300000                      0.258000    -0.335000   \n",
       "25%                  58.629693                      0.651000    -0.117000   \n",
       "50%                  65.200000                      0.765000    -0.027000   \n",
       "75%                  68.569250                      0.859000     0.089000   \n",
       "max                  77.100000                      0.985000     0.698000   \n",
       "\n",
       "       perceptions_of_corruption  \n",
       "count                2052.000000  \n",
       "mean                    0.746360  \n",
       "std                     0.184746  \n",
       "min                     0.035000  \n",
       "25%                     0.690000  \n",
       "50%                     0.800000  \n",
       "75%                     0.868000  \n",
       "max                     0.983000  "
      ]
     },
     "execution_count": 33,
     "metadata": {},
     "output_type": "execute_result"
    }
   ],
   "source": [
    "df_happy.describe()"
   ]
  }
 ],
 "metadata": {
  "interpreter": {
   "hash": "4cd7ab41f5fca4b9b44701077e38c5ffd31fe66a6cab21e0214b68d958d0e462"
  },
  "kernelspec": {
   "display_name": "Python 3",
   "language": "python",
   "name": "python3"
  },
  "language_info": {
   "codemirror_mode": {
    "name": "ipython",
    "version": 3
   },
   "file_extension": ".py",
   "mimetype": "text/x-python",
   "name": "python",
   "nbconvert_exporter": "python",
   "pygments_lexer": "ipython3",
   "version": "3.8.8"
  },
  "toc": {
   "base_numbering": 1,
   "nav_menu": {},
   "number_sections": true,
   "sideBar": true,
   "skip_h1_title": false,
   "title_cell": "Table of Contents",
   "title_sidebar": "Contents",
   "toc_cell": false,
   "toc_position": {},
   "toc_section_display": true,
   "toc_window_display": false
  },
  "varInspector": {
   "cols": {
    "lenName": 16,
    "lenType": 16,
    "lenVar": 40
   },
   "kernels_config": {
    "python": {
     "delete_cmd_postfix": "",
     "delete_cmd_prefix": "del ",
     "library": "var_list.py",
     "varRefreshCmd": "print(var_dic_list())"
    },
    "r": {
     "delete_cmd_postfix": ") ",
     "delete_cmd_prefix": "rm(",
     "library": "var_list.r",
     "varRefreshCmd": "cat(var_dic_list()) "
    }
   },
   "types_to_exclude": [
    "module",
    "function",
    "builtin_function_or_method",
    "instance",
    "_Feature"
   ],
   "window_display": false
  }
 },
 "nbformat": 4,
 "nbformat_minor": 5
}
